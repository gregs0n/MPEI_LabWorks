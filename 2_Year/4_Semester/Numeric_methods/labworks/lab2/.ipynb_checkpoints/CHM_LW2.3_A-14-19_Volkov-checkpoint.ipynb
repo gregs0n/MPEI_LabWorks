{
 "cells": [
  {
   "cell_type": "code",
   "execution_count": 290,
   "metadata": {},
   "outputs": [],
   "source": [
    "import numpy as np\n",
    "import matplotlib.pyplot as plt"
   ]
  },
  {
   "cell_type": "code",
   "execution_count": 291,
   "metadata": {},
   "outputs": [],
   "source": [
    "def f(x:float) -> float:\n",
    "    k = np.sqrt(2)\n",
    "    pi = np.pi\n",
    "    return 8*(k - 1)*np.arctan(x) - pi*(k-1) - 2*x*(2*k - 1) + 7 - 4*k + x*x\n",
    "\n",
    "def df(x:float) -> float:\n",
    "    k = np.sqrt(2)\n",
    "    pi = np.pi\n",
    "    return 8*(k-1)/(1 + x**2) - 2*(2*k - 1) + 2*x\n",
    "\n",
    "def d2f(x:float) -> float:\n",
    "    k = np.sqrt(2)\n",
    "    pi = np.pi\n",
    "    return 8*(k-1)*(-2*x)/(1 + x**2)**2 + 2\n",
    "\n",
    "def d3f(x:float) -> float:\n",
    "    k = np.sqrt(2)\n",
    "    pi = np.pi\n",
    "    return 8*(k-1)*(2*x*2*(1 + x**2)*2*x - 2 * (1 + x**2)**2)/(1 + x**2)**4"
   ]
  },
  {
   "cell_type": "code",
   "execution_count": 292,
   "metadata": {},
   "outputs": [
    {
     "data": {
      "text/plain": [
       "[(-0.0002, 0.0006)]"
      ]
     },
     "execution_count": 292,
     "metadata": {},
     "output_type": "execute_result"
    },
    {
     "data": {
      "image/png": "[encoded data removed]",
      "text/plain": [
       "<Figure size 432x288 with 1 Axes>"
      ]
     },
     "metadata": {
      "needs_background": "light"
     },
     "output_type": "display_data"
    }
   ],
   "source": [
    "x_data = np.linspace(0.3, 0.5, 1000)\n",
    "fig, axs = plt.subplots()\n",
    "axs.plot(x_data, f(x_data), label=\"$f(x)$\", color=\"blue\")\n",
    "axs.plot(x_data, df(x_data), label=\"$f'(x)$\", color=\"green\")\n",
    "axs.plot(x_data, d2f(x_data), label=\"$f''(x)$\", color=\"red\")\n",
    "axs.plot(x_data, d3f(x_data), label=\"$f'''(x)$\", color=\"orange\")\n",
    "axs.legend()\n",
    "ax = plt.gca()\n",
    "# plot X - axis    \n",
    "ax.axhline(y=0, color='k')\n",
    "axs.set(ylim=(-0.0002, 0.0006))\n",
    "#fig.savefig(\"2.3_plot_d.png\", dpi=500)"
   ]
  },
  {
   "cell_type": "code",
   "execution_count": 293,
   "metadata": {},
   "outputs": [],
   "source": [
    "def Newton_method(root_loc:list, f, df, m=1) -> list:\n",
    "    x = [(root_loc[0] + root_loc[1])/2]\n",
    "    eps = 1e-12\n",
    "    x.append(x[-1] - m*f(x[-1])/df(x[-1]))\n",
    "    while np.abs(x[-1] - x[-2]) > eps:\n",
    "        x.append(x[-1] - m*f(x[-1])/df(x[-1]))\n",
    "    return x"
   ]
  },
  {
   "cell_type": "code",
   "execution_count": 294,
   "metadata": {},
   "outputs": [],
   "source": [
    "d = [[0.4, 0.425], [1.2, 1.3]]"
   ]
  },
  {
   "cell_type": "code",
   "execution_count": 295,
   "metadata": {},
   "outputs": [
    {
     "name": "stdout",
     "output_type": "stream",
     "text": [
      "6 1.2302155532993027 1.25 1.2302155532993027 4.440892098500626e-16\n"
     ]
    }
   ],
   "source": [
    "res = Newton_method(d[1], f, df)\n",
    "print(len(res), res[-1], max(res), min(res), f(res[-1]))"
   ]
  },
  {
   "cell_type": "code",
   "execution_count": 296,
   "metadata": {},
   "outputs": [
    {
     "name": "stdout",
     "output_type": "stream",
     "text": [
      "122 0.4142133527045863 24.41421356644915 -9.57772306471169 0.0\n"
     ]
    }
   ],
   "source": [
    "res = Newton_method(d[0], f, df, 3)\n",
    "print(len(res), res[-1], max(res), min(res), f(res[-1]))"
   ]
  },
  {
   "cell_type": "code",
   "execution_count": 297,
   "metadata": {},
   "outputs": [
    {
     "data": {
      "image/png": "[encoded data removed]",
      "text/plain": [
       "<Figure size 432x288 with 1 Axes>"
      ]
     },
     "metadata": {
      "needs_background": "light"
     },
     "output_type": "display_data"
    }
   ],
   "source": [
    "fig, axs = plt.subplots()\n",
    "axs.plot(res, [f(i) for i in res], label=\"$f(x)$\", color=\"blue\")\n",
    "plt.yscale('log')"
   ]
  },
  {
   "cell_type": "code",
   "execution_count": 298,
   "metadata": {},
   "outputs": [
    {
     "name": "stdout",
     "output_type": "stream",
     "text": [
      "5 0.41421356237309487 0.41421356237309487 0.4125 -3.885780586188048e-16\n"
     ]
    }
   ],
   "source": [
    "res = Newton_method(d[0], d2f, d3f, 1)\n",
    "print(len(res), res[-1], max(res), min(res), f(res[-1]))"
   ]
  },
  {
   "cell_type": "code",
   "execution_count": 299,
   "metadata": {},
   "outputs": [],
   "source": [
    "ans = [0.41420092158433786, 0.4142042003526383, 0.4142133527045863, 0.4142135436948857, 0.414213562325662, 0.41421356237309487]"
   ]
  },
  {
   "cell_type": "code",
   "execution_count": 300,
   "metadata": {},
   "outputs": [],
   "source": [
    "def get_root(a, b, f):\n",
    "    x = []\n",
    "    left = a\n",
    "    right = b\n",
    "    eps = 1e-12\n",
    "    while np.abs(left - right) > 2*eps:\n",
    "        mid = (left + right) / 2\n",
    "        x.append(mid)\n",
    "        if f(mid) > 0:\n",
    "            left = mid\n",
    "        else:\n",
    "            right = mid\n",
    "    return x\n",
    "        "
   ]
  },
  {
   "cell_type": "code",
   "execution_count": 301,
   "metadata": {},
   "outputs": [],
   "source": [
    "res = get_root(0.4, 0.425, f)"
   ]
  },
  {
   "cell_type": "code",
   "execution_count": 302,
   "metadata": {},
   "outputs": [
    {
     "name": "stdout",
     "output_type": "stream",
     "text": [
      "34 0.41420254713302707 0.41874999999999996 0.4125 0.0\n"
     ]
    }
   ],
   "source": [
    "print(len(res), res[-1], max(res), min(res), f(res[-1]))"
   ]
  },
  {
   "cell_type": "code",
   "execution_count": null,
   "metadata": {},
   "outputs": [],
   "source": []
  }
 ],
 "metadata": {
  "kernelspec": {
   "display_name": "Python 3",
   "language": "python",
   "name": "python3"
  },
  "language_info": {
   "codemirror_mode": {
    "name": "ipython",
    "version": 3
   },
   "file_extension": ".py",
   "mimetype": "text/x-python",
   "name": "python",
   "nbconvert_exporter": "python",
   "pygments_lexer": "ipython3",
   "version": "3.8.5"
  }
 },
 "nbformat": 4,
 "nbformat_minor": 4
}
