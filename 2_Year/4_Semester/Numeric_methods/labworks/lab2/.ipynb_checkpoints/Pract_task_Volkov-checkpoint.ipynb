{
 "cells": [
  {
   "cell_type": "code",
   "execution_count": 1,
   "metadata": {},
   "outputs": [],
   "source": [
    "import numpy as np\n",
    "import matplotlib.pyplot as plt"
   ]
  },
  {
   "cell_type": "code",
   "execution_count": 2,
   "metadata": {},
   "outputs": [],
   "source": [
    "def f1(x:float) -> float:\n",
    "    return 7 * (np.sin(x))**2 - 4* np.sin(x) + 1\n",
    "\n",
    "def f2(x:float) -> float:\n",
    "    return x - 2.2\n",
    "\n",
    "def f(x:float) -> float:\n",
    "    return f1(x) - f2(x)"
   ]
  },
  {
   "cell_type": "code",
   "execution_count": 4,
   "metadata": {},
   "outputs": [
    {
     "data": {
      "image/png": "[encoded data removed]",
      "text/plain": [
       "<Figure size 432x288 with 1 Axes>"
      ]
     },
     "metadata": {
      "needs_background": "light"
     },
     "output_type": "display_data"
    }
   ],
   "source": [
    "x_data = np.linspace(2, 3, 1000)\n",
    "fig, axs = plt.subplots()\n",
    "axs.plot(x_data, f1(x_data), label=\"$f1(x)$\", color=\"blue\")\n",
    "axs.plot(x_data, f2(x_data), label=\"$f2(x)$\", color=\"green\")\n",
    "axs.plot(x_data, f(x_data), label=\"$f1(x) - f2(x)$\", color=\"red\")\n",
    "axs.legend()\n",
    "ax = plt.gca()\n",
    "# plot X - axis    \n",
    "ax.axhline(y=0, color='k')\n",
    "#axs.set(ylim=(-0.0002, 0.0006))\n",
    "axs.grid(True)"
   ]
  },
  {
   "cell_type": "code",
   "execution_count": 9,
   "metadata": {},
   "outputs": [],
   "source": [
    "def Secant_method(root_loc: list, f, df, eps: float) -> list:\n",
    "    x = [(root_loc[0] + root_loc[1])/2]\n",
    "    x.append(x[-1] + 1e3*eps)\n",
    "    while f(x[-1]) - f(x[-2]) != 0.0 and np.abs(x[-1] - x[-2]) > eps:\n",
    "        x.append(x[-1] - (f(x[-1])*(x[-1] - x[-2]))/(f(x[-1]) - f(x[-2])))\n",
    "    return x\n",
    "\n",
    "def bisection(root_loc:list, f, df, eps: float) -> list:\n",
    "    x = []\n",
    "    left = root_loc[0]\n",
    "    right = root_loc[1]\n",
    "    while np.abs(left - right) > 2*eps:\n",
    "        mid = (left + right) / 2\n",
    "        x.append(mid)\n",
    "        if f(mid) * f(left) > 0:\n",
    "            left = mid\n",
    "        else:\n",
    "            right = mid\n",
    "    x.append((left + right) / 2)\n",
    "    return x"
   ]
  },
  {
   "cell_type": "code",
   "execution_count": 28,
   "metadata": {},
   "outputs": [],
   "source": [
    "functions = [bisection, Secant_method]\n",
    "\n",
    "def show_res(res, string: str):\n",
    "    print(\"| {func_name} : {root:.6f} : {iterations:^10} |\".format(func_name=string, root=res[-1], iterations=len(res)))\n",
    "\n",
    "    \n",
    "#Эта функция использовалась для вывода сравнительных данных о результатах работы различных методов.\n",
    "def show_difference(root_loc, f, df, eps):\n",
    "    print(\"---------------------------------------------\")\n",
    "    print(\"|       method      :   root   : iterations |\")\n",
    "    print(\"---------------------------------------------\")\n",
    "    for func in functions:\n",
    "        show_res(func(root_loc, f, df, eps), \"{:^17}\".format(func.__name__))\n",
    "    print(\"---------------------------------------------\")"
   ]
  },
  {
   "cell_type": "code",
   "execution_count": 29,
   "metadata": {},
   "outputs": [],
   "source": [
    "loc = [2.6, 2.8]"
   ]
  },
  {
   "cell_type": "code",
   "execution_count": 30,
   "metadata": {},
   "outputs": [
    {
     "name": "stdout",
     "output_type": "stream",
     "text": [
      "---------------------------------------------\n",
      "|       method      :   root   : iterations |\n",
      "---------------------------------------------\n",
      "|     bisection     : 2.726031 :     15     |\n",
      "|   Secant_method   : 2.726027 :     6      |\n",
      "---------------------------------------------\n"
     ]
    }
   ],
   "source": [
    "#в качестве аргумента df функции можно передать любой объект в даннном случае, тк она не нужна при работе метода Секущих\n",
    "#Метод бисекции использован для сравнения\n",
    "show_difference(loc, f, f1, 1e-5)"
   ]
  }
 ],
 "metadata": {
  "kernelspec": {
   "display_name": "Python 3",
   "language": "python",
   "name": "python3"
  },
  "language_info": {
   "codemirror_mode": {
    "name": "ipython",
    "version": 3
   },
   "file_extension": ".py",
   "mimetype": "text/x-python",
   "name": "python",
   "nbconvert_exporter": "python",
   "pygments_lexer": "ipython3",
   "version": "3.8.5"
  }
 },
 "nbformat": 4,
 "nbformat_minor": 4
}
