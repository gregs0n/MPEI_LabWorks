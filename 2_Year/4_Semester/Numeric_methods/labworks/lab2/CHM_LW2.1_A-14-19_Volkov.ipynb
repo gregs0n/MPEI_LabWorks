{
 "cells": [
  {
   "cell_type": "code",
   "execution_count": 3,
   "metadata": {},
   "outputs": [],
   "source": [
    "import numpy as np\n",
    "import matplotlib.pyplot as plt"
   ]
  },
  {
   "cell_type": "code",
   "execution_count": 4,
   "metadata": {},
   "outputs": [],
   "source": [
    "#Given polynom\n",
    "def P(x:float) -> float:\n",
    "    return x**6 + 0.9*x**5 - 0.2*x**3 - 1.3*x**2 - 0.7*x + 0.1\n",
    "\n",
    "def dP(x:float) -> float:\n",
    "    return 6*x**5 + 0.9*5*x**4 - 0.6*x**2 - 2.6*x - 0.7"
   ]
  },
  {
   "cell_type": "code",
   "execution_count": 5,
   "metadata": {},
   "outputs": [],
   "source": [
    "a, b = -1.5, 1.5\n",
    "x_data = np.linspace(a, b, 10000)"
   ]
  },
  {
   "cell_type": "code",
   "execution_count": 6,
   "metadata": {},
   "outputs": [
    {
     "data": {
      "text/plain": [
       "[(-2.0, 2.0)]"
      ]
     },
     "execution_count": 6,
     "metadata": {},
     "output_type": "execute_result"
    },
    {
     "data": {
      "image/png": "[encoded data removed]",
      "text/plain": [
       "<Figure size 432x288 with 1 Axes>"
      ]
     },
     "metadata": {
      "needs_background": "light"
     },
     "output_type": "display_data"
    }
   ],
   "source": [
    "fig, axs = plt.subplots()\n",
    "\n",
    "axs.plot(x_data, P(x_data), label=\"$P(x)$\", color=\"blue\")\n",
    "axs.plot(x_data, dP(x_data), label=\"$P'(x)$\", color=\"green\")\n",
    "axs.legend()\n",
    "ax = plt.gca()\n",
    "# plot X - axis    \n",
    "ax.axhline(y=0, color='k')\n",
    "axs.set(ylim=(-2, 2))\n",
    "#fig.savefig(\"2.1_plot.png\", dpi=500)"
   ]
  },
  {
   "cell_type": "code",
   "execution_count": 7,
   "metadata": {},
   "outputs": [
    {
     "name": "stdout",
     "output_type": "stream",
     "text": [
      "[-0.1490508442239818, 1.3725100516667588, -0.8340389228087154, 0.06518626486287579]\n",
      "[0.9701898311552037, 0.2536976594061997, 0.41617275403389914, 0.9579366070092835]\n"
     ]
    }
   ],
   "source": [
    "#Вычислим максимальное и минимальное значение производной на отрезках локализации\n",
    "x = [[-1.4, -1], [-0.9, -0.5], [0, 0.5], [0.8, 1.3]]\n",
    "def max_min(d):\n",
    "    x = np.linspace(d[0], d[1], 1000)\n",
    "    y = [dP(i) for i in x]\n",
    "    return max(y), min(y)\n",
    "\n",
    "M_m = []\n",
    "for i in x:\n",
    "    M_m.append(max_min(i))\n",
    "alpha = [2/(i[0] + i[1]) for i in M_m]\n",
    "q = [np.abs((i[0] - i[1]) / (i[0] + i[1])) for i in M_m]\n",
    "print(alpha)\n",
    "print(q)"
   ]
  },
  {
   "cell_type": "code",
   "execution_count": 10,
   "metadata": {},
   "outputs": [
    {
     "name": "stdout",
     "output_type": "stream",
     "text": [
      "29 -1.1526476860739139 3.2320309678590675e-08\n",
      "12 -0.686541059047781 6.212199366029125e-10\n",
      "10 0.11700620394113045 -3.6110692214208484e-10\n",
      "22 1.0276492114149889 3.9607403162778e-08\n"
     ]
    }
   ],
   "source": [
    "def get_root(alpha, d):\n",
    "    x = [(d[0] + d[1])/2]\n",
    "    eps = 1e-8\n",
    "    x.append(x[-1] - alpha*P(x[-1]))\n",
    "    while np.abs(x[-1] - x[-2]) > eps:\n",
    "        x.append(x[-1] - alpha*P(x[-1]))\n",
    "    return x\n",
    "res = [] #В этом массиве будут храниться корни всех этапов работы метода\n",
    "for i in range(4):\n",
    "    res.append(get_root(alpha[i], x[i]))\n",
    "    print(len(res[-1]), res[-1][-1], P(res[-1][-1]))"
   ]
  },
  {
   "cell_type": "code",
   "execution_count": 11,
   "metadata": {},
   "outputs": [
    {
     "name": "stdout",
     "output_type": "stream",
     "text": [
      "1-й: -1.15264769 & $[-1.4, -1]$ & -0.2 & -13.2 & -0.149 & 0.97 & 29 \\\\ \\hline\n",
      "2-й: -0.686541059 & $[-0.9, -0.5]$ & 0.913 & 0.544 & 1.37 & 0.254 & 12 \\\\ \\hline\n",
      "3-й: 0.117006204 & $[0, 0.5]$ & -0.7 & -1.7 & -0.834 & 0.416 & 10 \\\\ \\hline\n",
      "4-й: 1.02764921 & $[0.8, 1.3]$ & 30.0 & 0.645 & 0.0652 & 0.958 & 22 \\\\ \\hline\n"
     ]
    }
   ],
   "source": [
    "for i in range(4):\n",
    "    print(\"{7}-й: {8:.9} & $[{0}, {1}]$ & {2:.3} & {3:.3} & {4:.3} & {5:.3} & {6} \\\\\\ \\hline\".format(\n",
    "            x[i][0], x[i][1], M_m[i][0], M_m[i][1], alpha[i], q[i], len(res[i]), i+1, res[i][-1]))"
   ]
  },
  {
   "cell_type": "code",
   "execution_count": null,
   "metadata": {},
   "outputs": [],
   "source": []
  }
 ],
 "metadata": {
  "kernelspec": {
   "display_name": "Python 3",
   "language": "python",
   "name": "python3"
  },
  "language_info": {
   "codemirror_mode": {
    "name": "ipython",
    "version": 3
   },
   "file_extension": ".py",
   "mimetype": "text/x-python",
   "name": "python",
   "nbconvert_exporter": "python",
   "pygments_lexer": "ipython3",
   "version": "3.8.5"
  }
 },
 "nbformat": 4,
 "nbformat_minor": 4
}
