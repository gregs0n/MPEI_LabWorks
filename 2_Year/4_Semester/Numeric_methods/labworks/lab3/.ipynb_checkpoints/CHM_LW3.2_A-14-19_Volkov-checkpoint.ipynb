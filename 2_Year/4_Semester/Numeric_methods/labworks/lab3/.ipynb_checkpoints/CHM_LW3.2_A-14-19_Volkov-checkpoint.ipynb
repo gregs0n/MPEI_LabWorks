{
 "cells": [
  {
   "cell_type": "code",
   "execution_count": 1,
   "metadata": {},
   "outputs": [],
   "source": [
    "import matplotlib.pyplot as plt\n",
    "import numpy as np"
   ]
  },
  {
   "cell_type": "code",
   "execution_count": 2,
   "metadata": {},
   "outputs": [],
   "source": [
    "def make_matr(n: int) -> tuple:\n",
    "    main_diag = [87] * n\n",
    "    upper_diag = [30] * (n - 23)\n",
    "    other_diag = [4] * (n - 2)\n",
    "    return main_diag, upper_diag, other_diag"
   ]
  },
  {
   "cell_type": "code",
   "execution_count": 3,
   "metadata": {},
   "outputs": [],
   "source": [
    "def solve_(d0: list, d23: list, d2:list, d:list, n: int) -> list:\n",
    "    a, b, c = d0[0], d23[0], d2[0]\n",
    "    d0_ = [i for i in d0]\n",
    "    d23_ = [i for i in d23]\n",
    "    d2_ = [i for i in d2]\n",
    "    d_ = [i for i in d]\n",
    "    x = [0] * n\n",
    "    for i in range((n - 2) // 2):\n",
    "        d0_[3+i] = 0\n",
    "        d2_[-1-i] -= a * a/c\n",
    "    return x"
   ]
  }
 ],
 "metadata": {
  "kernelspec": {
   "display_name": "Python 3",
   "language": "python",
   "name": "python3"
  },
  "language_info": {
   "codemirror_mode": {
    "name": "ipython",
    "version": 3
   },
   "file_extension": ".py",
   "mimetype": "text/x-python",
   "name": "python",
   "nbconvert_exporter": "python",
   "pygments_lexer": "ipython3",
   "version": "3.8.5"
  }
 },
 "nbformat": 4,
 "nbformat_minor": 4
}
