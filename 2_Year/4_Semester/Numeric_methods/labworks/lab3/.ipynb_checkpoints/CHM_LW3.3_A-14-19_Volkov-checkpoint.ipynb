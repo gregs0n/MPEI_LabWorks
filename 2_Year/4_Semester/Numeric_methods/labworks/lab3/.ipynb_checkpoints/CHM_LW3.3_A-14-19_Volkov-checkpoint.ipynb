{
 "cells": [
  {
   "cell_type": "code",
   "execution_count": 1,
   "metadata": {},
   "outputs": [],
   "source": [
    "import numpy as np\n",
    "import matplotlib.pyplot as plt"
   ]
  },
  {
   "cell_type": "code",
   "execution_count": 2,
   "metadata": {},
   "outputs": [],
   "source": [
    "def Norm(m: np.ndarray) -> np.float64:\n",
    "    if len(m.shape) == 1:\n",
    "        tmp = 0\n",
    "        mx = np.abs(m[0])\n",
    "        for i in range(m.shape[0]):\n",
    "            if np.abs(m[i]) > mx:\n",
    "                mx = np.abs(m[i])\n",
    "        return mx\n",
    "    mx = 0\n",
    "    for i in range(m.shape[0]):\n",
    "        tmp = 0\n",
    "        for j in range(m.shape[0]):\n",
    "            tmp += np.abs(m[i][j])\n",
    "        if tmp > mx:\n",
    "            mx = tmp\n",
    "    return mx"
   ]
  },
  {
   "cell_type": "code",
   "execution_count": 3,
   "metadata": {},
   "outputs": [],
   "source": [
    "def matrix(n):\n",
    "    beta = 38 * n\n",
    "    f = lambda i, j: (np.cos(i) + j) / (0.1 * beta) + 0.1 * beta * np.exp(-(i - j)**2)\n",
    "    return np.array([[f(i, j) for j in range(n)] for i in range(n)], np.float64)"
   ]
  },
  {
   "cell_type": "code",
   "execution_count": 9,
   "metadata": {},
   "outputs": [],
   "source": [
    "def minimum_deviation(matr: np.ndarray, b: np.ndarray, eps: np.float64) -> np.ndarray:\n",
    "    x = np.zeros_like(b)\n",
    "    r = matr.dot(x) - b\n",
    "    r0 = r\n",
    "    tau = r.dot(r) / ((matr.dot(r)).dot(r))\n",
    "    x = x - tau * r\n",
    "    while np.abs(Norm(r) / Norm(r0)) > eps:\n",
    "        r = matr.dot(x) - b\n",
    "        tau = r.dot(r) / ((matr.dot(r)).dot(r))\n",
    "        x = x - tau * r\n",
    "    return x"
   ]
  },
  {
   "cell_type": "code",
   "execution_count": 10,
   "metadata": {},
   "outputs": [
    {
     "name": "stdout",
     "output_type": "stream",
     "text": [
      "[32.99977437 33.0004763  32.99945582 33.00066142 32.99947897 33.00053767\n",
      " 32.99971532 33.00031782 32.99993953 33.0001698  33.00005689 33.00011429\n",
      " 33.00009631 33.00009634 33.00011434 33.00005693 33.00016975 32.9999395\n",
      " 33.0003177  32.99971541 33.00053757 32.99947915 33.0006612  32.9994559\n",
      " 33.00047608 32.99977439]\n"
     ]
    }
   ],
   "source": [
    "n = 26\n",
    "A = matrix(n)\n",
    "b = A.dot(np.array([33 for _ in range(n)], np.float64))\n",
    "x = minimum_deviation(A, b, np.float64(1e-5))\n",
    "print(x)"
   ]
  }
 ],
 "metadata": {
  "kernelspec": {
   "display_name": "Python 3",
   "language": "python",
   "name": "python3"
  },
  "language_info": {
   "codemirror_mode": {
    "name": "ipython",
    "version": 3
   },
   "file_extension": ".py",
   "mimetype": "text/x-python",
   "name": "python",
   "nbconvert_exporter": "python",
   "pygments_lexer": "ipython3",
   "version": "3.8.5"
  }
 },
 "nbformat": 4,
 "nbformat_minor": 4
}
