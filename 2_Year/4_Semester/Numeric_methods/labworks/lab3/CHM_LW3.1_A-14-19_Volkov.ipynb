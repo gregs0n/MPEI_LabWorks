{
 "cells": [
  {
   "cell_type": "code",
   "execution_count": 82,
   "metadata": {},
   "outputs": [],
   "source": [
    "import matplotlib.pyplot as plt\n",
    "import numpy as np"
   ]
  },
  {
   "cell_type": "code",
   "execution_count": 83,
   "metadata": {},
   "outputs": [],
   "source": [
    "def Norm(m: np.ndarray) -> np.float32:\n",
    "    if len(m.shape) == 1:\n",
    "        return max(m)\n",
    "    else:\n",
    "        mx = 0\n",
    "        for i in range(m.shape[0]):\n",
    "            tmp = 0\n",
    "            for j in range(m.shape[0]):\n",
    "                tmp += np.abs(m[i][j])\n",
    "            if tmp > mx:\n",
    "                mx = tmp\n",
    "        return mx"
   ]
  },
  {
   "cell_type": "code",
   "execution_count": 84,
   "metadata": {},
   "outputs": [],
   "source": [
    "def LU_dec(A: np.ndarray) -> tuple:\n",
    "    L = np.empty(A.shape)\n",
    "    U = np.empty(A.shape)\n",
    "    n = A.shape[0]\n",
    "    for i in range(n):\n",
    "        for j in range(n):\n",
    "            U[i, j] = A[i, j]\n",
    "            L[i, j] = int(i == j)\n",
    "    for i in range(n):\n",
    "        for j in range(i+1, n):\n",
    "            L[j, i] = U[j, i] / U[i, i]\n",
    "            U[j] = U[j] - L[j, i] * U[i]\n",
    "    return (L, U)"
   ]
  },
  {
   "cell_type": "code",
   "execution_count": 85,
   "metadata": {},
   "outputs": [],
   "source": [
    "def swap(A: np.ndarray, L: np.ndarray, permutations: list, i: int):\n",
    "    mx, line = np.abs(A[i, i]), i\n",
    "    for j in range(i+1, A.shape[0]):\n",
    "        if np.abs(A[j, i]) > mx:\n",
    "            mx = np.abs(A[j, i])\n",
    "            line = j\n",
    "    for j in range(A.shape[0]):\n",
    "        A[line, j], A[i, j] = A[i, j], A[line, j]\n",
    "        L[line, j], L[i, j] = L[i, j], L[line, j]\n",
    "    permutations[i], permutations[line] = permutations[line], permutations[i]\n",
    "\n",
    "def LU_part(A: np.ndarray) -> tuple:\n",
    "    L = np.empty(A.shape)\n",
    "    n = A.shape[0]\n",
    "    permutations = list(range(n))\n",
    "    for i in range(n):\n",
    "        for j in range(n):\n",
    "            L[i, j] = int(i == j)\n",
    "    for i in range(n):\n",
    "        swap(A, L, permutations, i)\n",
    "        for j in range(i+1, n):\n",
    "            L[j, i] = A[j, i] / A[i, i]\n",
    "            A[j] = A[j] - L[j, i] * A[i]\n",
    "    return L, permutations"
   ]
  },
  {
   "cell_type": "code",
   "execution_count": 86,
   "metadata": {},
   "outputs": [],
   "source": [
    "def Solve(L: np.ndarray, U: np.ndarray, b: np.ndarray, perm=[]) -> np.ndarray:\n",
    "    x = np.zeros_like(b, np.float64)\n",
    "    if not perm:\n",
    "        perm = list(range(L.shape[0]))\n",
    "    for i in range(b.shape[0]):\n",
    "        x[i] = b[perm[i]]\n",
    "    for i in range(1, L.shape[0]):\n",
    "        for j in range(i):\n",
    "            x[i]-= x[j] * L[i, j]    \n",
    "    for i in range(L.shape[0]-1, -1, -1):\n",
    "        for j in range(i+1, L.shape[0]):\n",
    "            x[i]-= x[j] * U[i, j]\n",
    "        x[i] /= U[i, i]\n",
    "    return x"
   ]
  },
  {
   "cell_type": "code",
   "execution_count": 87,
   "metadata": {
    "scrolled": false
   },
   "outputs": [
    {
     "name": "stdout",
     "output_type": "stream",
     "text": [
      "[-2. -7. -7.  7.]\n",
      "[[ 50.         -16.          11.           9.        ]\n",
      " [  0.           6.          24.          44.        ]\n",
      " [  0.           0.           6.5          7.1       ]\n",
      " [  0.           0.           0.           0.38461538]]\n",
      "[2, 3, 1, 0]\n"
     ]
    }
   ],
   "source": [
    "A = np.array([[-5, 1, 1, 0],\n",
    "              [15, -6, 5, 1],\n",
    "              [50, -16, 11, 9],\n",
    "              [0, 6, 24, 44]], np.float64)\n",
    "b1 = np.array([-4, -16, -2, 98], np.float64)\n",
    "b2 = np.array([-61, 122, 373, -698], np.float64)\n",
    "#L, U= LU_dec(A)\n",
    "L, perm = LU_part(A)\n",
    "x = Solve(L, A, b1, perm)\n",
    "print(x)\n",
    "print(A)\n",
    "print(perm)"
   ]
  },
  {
   "cell_type": "code",
   "execution_count": 88,
   "metadata": {},
   "outputs": [],
   "source": [
    "def get_matrix(n: int) -> np.ndarray:\n",
    "    f = lambda i, j: np.tan(i + 1)**(17 - j)\n",
    "    A = np.array([[f(i, j) for j in range(n)] for i in range(n)])\n",
    "    return A"
   ]
  },
  {
   "cell_type": "code",
   "execution_count": 89,
   "metadata": {},
   "outputs": [
    {
     "name": "stdout",
     "output_type": "stream",
     "text": [
      "[33. 33. 33. 33. 33.]\n",
      "True\n"
     ]
    }
   ],
   "source": [
    "#Решение обычной декомпозицией\n",
    "A = get_matrix(5)\n",
    "b = A.dot(np.array([33 for _ in range(5)]))\n",
    "L, U = LU_dec(A)\n",
    "x = Solve(L, U, b)\n",
    "print(x)\n",
    "print(np.allclose(A.dot(x), b))"
   ]
  },
  {
   "cell_type": "code",
   "execution_count": 90,
   "metadata": {
    "scrolled": true
   },
   "outputs": [
    {
     "name": "stdout",
     "output_type": "stream",
     "text": [
      "[33. 33. 33. 33. 33.]\n",
      "True\n"
     ]
    }
   ],
   "source": [
    "#схема частичного выбора\n",
    "L, perm = LU_part(A)\n",
    "x = Solve(L, A, b, perm)\n",
    "print(x)\n",
    "A = get_matrix(5)\n",
    "print(np.allclose(A.dot(x), b))"
   ]
  },
  {
   "cell_type": "code",
   "execution_count": 91,
   "metadata": {},
   "outputs": [
    {
     "name": "stdout",
     "output_type": "stream",
     "text": [
      "[32.99999171 32.99996228 32.99998698 33.00006978 33.00001011]\n",
      "[ 0.00000000e+00 -1.86264515e-09  1.03397577e-25 -1.13686838e-12\n",
      " -3.81469727e-06]\n"
     ]
    }
   ],
   "source": [
    "#Возмущенная матрица обычной декомпозицией\n",
    "A_ = get_matrix(5)\n",
    "A_[0, 0] += 1e-3\n",
    "b = A.dot(np.array([33 for _ in range(5)]))\n",
    "L, U = LU_dec(A_)\n",
    "x1 = Solve(L, U, b)\n",
    "print(x1)\n",
    "print(A_.dot(x1) - b)"
   ]
  },
  {
   "cell_type": "code",
   "execution_count": 92,
   "metadata": {},
   "outputs": [
    {
     "name": "stdout",
     "output_type": "stream",
     "text": [
      "[32.99999171 32.99996228 32.99998698 33.00006978 33.00001011]\n",
      "[ 0.00000000e+00 -3.72529030e-09 -5.16987883e-26  0.00000000e+00\n",
      "  0.00000000e+00]\n"
     ]
    }
   ],
   "source": [
    "#Возмущенная матрица по схеме частичного выбора\n",
    "L, perm = LU_part(A_)\n",
    "x2 = Solve(L, A_, b, perm)\n",
    "A_ = get_matrix(5); A_[0, 0] += 1e-3\n",
    "print(x2)\n",
    "print(A_.dot(x2) - b)"
   ]
  },
  {
   "cell_type": "code",
   "execution_count": 93,
   "metadata": {},
   "outputs": [],
   "source": [
    "A = get_matrix(5)\n",
    "nu_b = Norm(A) * Norm(np.linalg.inv(A))\n",
    "d_x = Norm(x - x1) / Norm(x1)\n",
    "d_A = Norm(A_ - A) / Norm(A)"
   ]
  },
  {
   "cell_type": "code",
   "execution_count": 94,
   "metadata": {},
   "outputs": [
    {
     "data": {
      "text/plain": [
       "(1.2651682308961201e+20, 1.1430333150025495e-06, 7.177350076381855e-13)"
      ]
     },
     "execution_count": 94,
     "metadata": {},
     "output_type": "execute_result"
    }
   ],
   "source": [
    "nu_b, d_x, d_A"
   ]
  },
  {
   "cell_type": "code",
   "execution_count": 95,
   "metadata": {},
   "outputs": [
    {
     "data": {
      "text/plain": [
       "(1.1430333150025495e-06, 90805552.98658165)"
      ]
     },
     "execution_count": 95,
     "metadata": {},
     "output_type": "execute_result"
    }
   ],
   "source": [
    "d_x, nu_b * d_A"
   ]
  },
  {
   "cell_type": "code",
   "execution_count": 96,
   "metadata": {},
   "outputs": [],
   "source": [
    "def get_error1(n: int) -> np.float64:\n",
    "    A = get_matrix(n)\n",
    "    b = A.dot(np.array([33 for _ in range(n)]))\n",
    "    L, U = LU_dec(A)\n",
    "    x = Solve(L, U, b)\n",
    "    A[0, 0] += 1e-3\n",
    "    L, U = LU_dec(A)\n",
    "    x_ = Solve(L, U, b)\n",
    "    return Norm(x - x_)/Norm(x_)"
   ]
  },
  {
   "cell_type": "code",
   "execution_count": 97,
   "metadata": {},
   "outputs": [],
   "source": [
    "def get_error2(n: int) -> np.float64:\n",
    "    A = get_matrix(n)\n",
    "    b = A.dot(np.array([33 for _ in range(n)]))\n",
    "    L, perm = LU_part(A)\n",
    "    x = Solve(L, A, b, perm)\n",
    "    A_ = get_matrix(n); A_[0, 0] += 1e-3\n",
    "    L, perm = LU_part(A_)\n",
    "    x_ = Solve(L, A_, b, perm)\n",
    "    return Norm(x - x_)/Norm(x_)"
   ]
  },
  {
   "cell_type": "code",
   "execution_count": null,
   "metadata": {},
   "outputs": [],
   "source": [
    "fig, axs = plt.subplots()\n",
    "\n",
    "x_data = list(range(4, 26))\n",
    "\n",
    "axs.plot(x_data, [get_error1(i) for i in x_data], color=\"blue\")\n",
    "axs.plot(x_data, [get_error2(i) for i in x_data], color=\"green\")\n",
    "ax = plt.gca()\n",
    "plt.yscale('log')\n",
    "# plot X - axis    \n",
    "ax.axhline(y=0, color='k')\n",
    "axs.grid(True)\n",
    "#fig.savefig(\"3.1_plot.png\", dpi=500)"
   ]
  }
 ],
 "metadata": {
  "kernelspec": {
   "display_name": "Python 3",
   "language": "python",
   "name": "python3"
  },
  "language_info": {
   "codemirror_mode": {
    "name": "ipython",
    "version": 3
   },
   "file_extension": ".py",
   "mimetype": "text/x-python",
   "name": "python",
   "nbconvert_exporter": "python",
   "pygments_lexer": "ipython3",
   "version": "3.8.5"
  }
 },
 "nbformat": 4,
 "nbformat_minor": 4
}
