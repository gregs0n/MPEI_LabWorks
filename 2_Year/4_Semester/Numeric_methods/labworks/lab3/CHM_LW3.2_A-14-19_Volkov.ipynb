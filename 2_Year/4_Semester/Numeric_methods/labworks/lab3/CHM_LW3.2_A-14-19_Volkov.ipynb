{
 "cells": [
  {
   "cell_type": "code",
   "execution_count": 30,
   "metadata": {},
   "outputs": [],
   "source": [
    "import matplotlib.pyplot as plt\n",
    "import numpy as np"
   ]
  },
  {
   "cell_type": "code",
   "execution_count": 31,
   "metadata": {},
   "outputs": [],
   "source": [
    "def make_matr(n: int) -> tuple:\n",
    "    main_diag = np.array([87] * n, np.float64)\n",
    "    upper_diag = np.array([30] * (n - 23), np.float64)\n",
    "    other_diag = np.array([4] * (n - 2), np.float64)\n",
    "    if n%2:\n",
    "        other_diag[-1 - (n - 2) // 2] = 87\n",
    "    else:\n",
    "        other_diag[-1 - (n-25)//2] = 30\n",
    "    return main_diag, upper_diag, other_diag"
   ]
  },
  {
   "cell_type": "code",
   "execution_count": 43,
   "metadata": {},
   "outputs": [],
   "source": [
    "def solve(d0: np.ndarray,\n",
    "          d23: np.ndarray,\n",
    "          d2: np.ndarray,\n",
    "          d:np.ndarray, n: int) -> np.ndarray:\n",
    "    a, b, c = d0[0], d23[0], d2[0]\n",
    "    d0_ = np.copy(d0)\n",
    "    d23_ = np.copy(d23)\n",
    "    d2_ = np.copy(d2)\n",
    "    d_ = np.copy(d)\n",
    "    x = np.zeros_like(d, np.float64)\n",
    "    for i in range((n - 2) // 2):\n",
    "        d0_[2+i] = 0\n",
    "        d2_[-1 - i] -= a * a/c\n",
    "        d_[2 + i] -= a/c * d[-1 - i]\n",
    "\n",
    "    #finding some x-s\n",
    "    k = n // 2 + 1\n",
    "    for i in range((48 - n)//2 + 1 - k % 2):\n",
    "        x[k + i] = d_[k - i - k % 2] / d2_[k + i - 2]\n",
    "        if i == 0 and not k % 2:\n",
    "            continue\n",
    "        x[k - i - k % 2] = (d_[k + i] - a * x[k + i]) / c\n",
    "    \n",
    "    x[0] = (d[0] - b * x[k + (48 - n)//2 - 1 - k % 2]) / a\n",
    "    x[1] = (d[1] - b * x[k + (48 - n)//2 - k % 2]) / a\n",
    "\n",
    "    for i in range((n-25)//2 + k % 2):\n",
    "        if i != (n-25)//2:\n",
    "            d23_[2 + i] = 0\n",
    "            d2_[-1 - i] -= b * b / d2_[23 + i]\n",
    "            d_[2 + i] -= b / d2_[23 + i] * d_[2 + (n - 25) - i - 1]\n",
    "\n",
    "        x[-1 - i] = d_[2 + i] / d2_[-1 -i]\n",
    "        x[2 + i] = (d_[-1 - i] - a * x[-1 - i]) / c\n",
    "        if i == (n-25)//2:\n",
    "            break\n",
    "        x[25 + i] = (d_[2 + (n - 25) - i - 1] - b * x[-1 - i]) / d2_[23 + i]\n",
    "        x[n - 25 + 1 - i] = (d_[25 + i] - a * x[25 + i]) / c\n",
    "    return x"
   ]
  },
  {
   "cell_type": "code",
   "execution_count": 44,
   "metadata": {},
   "outputs": [],
   "source": [
    "def elem(i, j, n):\n",
    "    if i == j:\n",
    "        return 87\n",
    "    elif i + 23 == j:\n",
    "        return 30\n",
    "    elif i + j == n + 1:\n",
    "        return 4\n",
    "    return 0\n",
    "\n",
    "def get_matr(n):\n",
    "    m = np.array([[elem(i, j, n) for j in range(n)] for i in range(n)], np.float64)\n",
    "    return m"
   ]
  },
  {
   "cell_type": "code",
   "execution_count": 51,
   "metadata": {},
   "outputs": [],
   "source": [
    "n = 41\n",
    "d0, d1, d2 = make_matr(n)\n",
    "d = np.array([n * (i+1) for i in range(n)], np.float64)\n",
    "x = solve(d0, d1, d2, d, n)\n",
    "m = get_matr(n)"
   ]
  },
  {
   "cell_type": "code",
   "execution_count": 52,
   "metadata": {
    "scrolled": true
   },
   "outputs": [
    {
     "name": "stdout",
     "output_type": "stream",
     "text": [
      "0 14.81927710843371\n",
      "1 -341.82046868793856\n",
      "9 -7.667895066067558\n",
      "10 482.6300952832753\n",
      "18 -937.3260624917244\n",
      "19 -889.7740963855417\n",
      "20 446172.28765887726\n",
      "21 -20551.25\n",
      "22 20556.553455580564\n",
      "23 1.9759036144578204\n",
      "24 -1032.2793591950217\n"
     ]
    }
   ],
   "source": [
    "r = m.dot(x) - d\n",
    "for i in range(n):\n",
    "    if np.abs(r[i]) > 0.1:\n",
    "        print(i, r[i])"
   ]
  },
  {
   "cell_type": "code",
   "execution_count": null,
   "metadata": {},
   "outputs": [],
   "source": []
  }
 ],
 "metadata": {
  "kernelspec": {
   "display_name": "Python 3",
   "language": "python",
   "name": "python3"
  },
  "language_info": {
   "codemirror_mode": {
    "name": "ipython",
    "version": 3
   },
   "file_extension": ".py",
   "mimetype": "text/x-python",
   "name": "python",
   "nbconvert_exporter": "python",
   "pygments_lexer": "ipython3",
   "version": "3.8.5"
  }
 },
 "nbformat": 4,
 "nbformat_minor": 4
}
