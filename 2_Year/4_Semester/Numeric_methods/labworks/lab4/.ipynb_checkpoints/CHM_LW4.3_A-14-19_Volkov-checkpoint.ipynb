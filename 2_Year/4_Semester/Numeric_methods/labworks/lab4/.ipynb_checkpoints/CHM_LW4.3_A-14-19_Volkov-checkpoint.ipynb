{
 "cells": [
  {
   "cell_type": "code",
   "execution_count": 219,
   "metadata": {},
   "outputs": [],
   "source": [
    "import numpy as np\n",
    "import matplotlib.pyplot as plt\n",
    "import numpy.polynomial as plnm"
   ]
  },
  {
   "cell_type": "code",
   "execution_count": 220,
   "metadata": {},
   "outputs": [],
   "source": [
    "f = lambda x: np.exp(2*x) - 1\n",
    "def Taylor(n):\n",
    "    power, fact = 1, 1\n",
    "    while n:\n",
    "        power, fact = power*2, fact*n\n",
    "        n -= 1\n",
    "    return power/fact"
   ]
  },
  {
   "cell_type": "code",
   "execution_count": 325,
   "metadata": {},
   "outputs": [],
   "source": [
    "def get_n(eps: np.float64) -> int:\n",
    "    n = 1\n",
    "    power, fact = 1, 1\n",
    "    while power/fact >= eps:\n",
    "        power, fact = power*2, fact*n\n",
    "        n += 1\n",
    "    return n-1\n",
    "\n",
    "def Cheb2Poly(n):\n",
    "    arr = [0]*n + [1]\n",
    "    cheb = plnm.chebyshev.Chebyshev(arr)\n",
    "    poly = plnm.Polynomial(plnm.chebyshev.cheb2poly(cheb.coef))\n",
    "    return poly\n",
    "\n",
    "def Economise(P):\n",
    "    tmpCheb = Cheb2Poly(P.degree())\n",
    "    PRes = P.cutdeg(P.degree()-1) - P.coef[-1]/(tmpCheb.coef[-1]) * tmpCheb.cutdeg(P.degree()-1)\n",
    "    return PRes"
   ]
  },
  {
   "cell_type": "code",
   "execution_count": 326,
   "metadata": {},
   "outputs": [
    {
     "name": "stdout",
     "output_type": "stream",
     "text": [
      "poly([0.00000000e+00 1.00000000e+00 2.00000000e+00 2.00000000e+00\n",
      " 1.33333333e+00 6.66666667e-01 2.66666667e-01 8.88888889e-02\n",
      " 2.53968254e-02 6.34920635e-03 1.41093474e-03]) 10\n"
     ]
    }
   ],
   "source": [
    "eps = 1e-4\n",
    "n = get_n(eps) - 1\n",
    "a = [Taylor(i) for i in range(n)]\n",
    "P0 = plnm.Polynomial([0] + a)\n",
    "P = [P0]\n",
    "print(P0, n)\n",
    "for i in range(n):\n",
    "    P.append(Economise(P[-1]))"
   ]
  },
  {
   "cell_type": "code",
   "execution_count": 327,
   "metadata": {},
   "outputs": [
    {
     "data": {
      "image/png": "[encoded data removed]",
      "text/plain": [
       "<Figure size 432x288 with 1 Axes>"
      ]
     },
     "metadata": {
      "needs_background": "light"
     },
     "output_type": "display_data"
    }
   ],
   "source": [
    "def PrintErr(P, col):\n",
    "    axs.plot(x_data, [f(x_data[i]) - P.linspace(1000)[1][i] for i in range(len(x_data))],\n",
    "             label='$P_{}()$'.format(i),\n",
    "             linewidth=1,\n",
    "             color=col)\n",
    "\n",
    "def PrintP(P, col):\n",
    "    axs.plot(x_data, P.linspace(1000)[1], color=col)\n",
    "\n",
    "x_data = np.linspace(-1, 1, 1000)\n",
    "\n",
    "fig, axs = plt.subplots()\n",
    "#axs.plot(x_data, f(x_data), label=\"$f(x)$\", color=\"blue\")\n",
    "PrintErr(P0, \"r\")\n",
    "line_styles = ((0, (3, 1, 1, 1, 1, 1)), 'dotted', 'dashed', 'dashdot', (0, (1, 10)))\n",
    "colors = ['b', 'g', 'r', 'c', 'm']\n",
    "#for i in range(5):\n",
    "    #PrintP(P[i], colors[i%5])\n",
    "    #PrintErr(P[i], colors[i%5])\n",
    "\n",
    "ax = plt.gca()\n",
    "ax.axhline(y=0, color='k')\n",
    "#axs.set(ylim=(-eps, eps))\n",
    "axs.legend()\n",
    "axs.grid(True)\n",
    "#plt.savefig(\"plot_4.2_all_inter.png\", dpi=500)"
   ]
  },
  {
   "cell_type": "code",
   "execution_count": null,
   "metadata": {},
   "outputs": [],
   "source": []
  }
 ],
 "metadata": {
  "kernelspec": {
   "display_name": "Python 3",
   "language": "python",
   "name": "python3"
  },
  "language_info": {
   "codemirror_mode": {
    "name": "ipython",
    "version": 3
   },
   "file_extension": ".py",
   "mimetype": "text/x-python",
   "name": "python",
   "nbconvert_exporter": "python",
   "pygments_lexer": "ipython3",
   "version": "3.8.5"
  }
 },
 "nbformat": 4,
 "nbformat_minor": 4
}
