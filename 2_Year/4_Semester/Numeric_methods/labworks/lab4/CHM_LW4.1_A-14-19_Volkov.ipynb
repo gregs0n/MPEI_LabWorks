{
 "cells": [
  {
   "cell_type": "code",
   "execution_count": 2,
   "metadata": {},
   "outputs": [],
   "source": [
    "import numpy as np\n",
    "import matplotlib.pyplot as plt"
   ]
  },
  {
   "cell_type": "code",
   "execution_count": 3,
   "metadata": {},
   "outputs": [],
   "source": [
    "x = [1950, 1960, 1970, 1980, 1990, 2000, 2010, 2020]\n",
    "y = [8.9, 9.6, 9.9, 10.3, 10.4, 10.3, 10.5, 10.7]"
   ]
  },
  {
   "cell_type": "code",
   "execution_count": 18,
   "metadata": {},
   "outputs": [],
   "source": [
    "def Least_Squares(x: list, y: list, m: int):\n",
    "    s = lambda k: sum([elem**k for elem in x])\n",
    "    b = lambda k: sum([y[i]*x[i]**k for i in range(len(x))])\n",
    "    NormalSystem = np.zeros((m+1, m+1), np.float64)\n",
    "    for i in range(m+1):\n",
    "        for j in range(i, m+1):\n",
    "            temp_coef = s(i + j)\n",
    "            NormalSystem[i, j] = temp_coef\n",
    "            NormalSystem[j, i] = temp_coef\n",
    "    d = np.array([b(i) for i in range(m+1)], np.float64)\n",
    "    print(d)\n",
    "    a = np.linalg.solve(NormalSystem, d)\n",
    "    return a"
   ]
  },
  {
   "cell_type": "code",
   "execution_count": 19,
   "metadata": {},
   "outputs": [],
   "source": [
    "def Average_Square_Deviation(Polynom, x, y):\n",
    "    return (1.0/(len(x)) * sum([(Polynom(x[i]) - y[i])**2 for i in range(len(x))]))**0.5"
   ]
  },
  {
   "cell_type": "code",
   "execution_count": 20,
   "metadata": {},
   "outputs": [
    {
     "name": "stdout",
     "output_type": "stream",
     "text": [
      "[8.06000e+01 1.60083e+05]\n",
      "[8.0600000e+01 1.6008300e+05 3.1798901e+08]\n",
      "[8.06000000e+01 1.60083000e+05 3.17989010e+08 6.31736069e+11]\n",
      "[8.06000000e+01 1.60083000e+05 3.17989010e+08 6.31736069e+11\n",
      " 1.25520840e+15]\n",
      "[8.06000000e+01 1.60083000e+05 3.17989010e+08 6.31736069e+11\n",
      " 1.25520840e+15 2.49432208e+18]\n",
      "[0.22354023820162283, 0.12476167757159774, 0.061060259283910706, 0.06013621222632716, 0.0714409420328587]\n",
      "[8.06000000e+01 1.60083000e+05 3.17989010e+08 6.31736069e+11\n",
      " 1.25520840e+15]\n"
     ]
    }
   ],
   "source": [
    "devs = []\n",
    "for m in range(1, 6):\n",
    "    a = Least_Squares(x, y, m)\n",
    "    Polynom = lambda x: sum([a[i]*x**i for i in range(m+1)])\n",
    "    devs.append(Average_Square_Deviation(Polynom, x, y))\n",
    "print(devs)#min(dev) = 0.060136. Polynom degree - 4\n",
    "a = Least_Squares(x, y, 4)\n",
    "Polynom = lambda x: sum([a[i]*x**i for i in range(5)])"
   ]
  },
  {
   "cell_type": "code",
   "execution_count": 21,
   "metadata": {},
   "outputs": [],
   "source": [
    "def Lagrange_Polynom(arg):\n",
    "    res = 0\n",
    "    for i in range(len(x)):\n",
    "        tmp = 1\n",
    "        for k in range(len(x)):\n",
    "            if i != k:\n",
    "                tmp *= (arg - x[k])* 1.0/(x[i] - x[k])\n",
    "        res += y[i]*tmp\n",
    "    return res"
   ]
  },
  {
   "cell_type": "code",
   "execution_count": 22,
   "metadata": {},
   "outputs": [
    {
     "data": {
      "image/png": "[encoded data removed]",
      "text/plain": [
       "<Figure size 432x288 with 1 Axes>"
      ]
     },
     "metadata": {
      "needs_background": "light"
     },
     "output_type": "display_data"
    }
   ],
   "source": [
    "x_data = np.linspace(x[0] - 1, x[-1] + 1, 10000)\n",
    "\n",
    "fig, axs = plt.subplots()\n",
    "axs.plot(x_data, Polynom(x_data), label=\"$P_4(x)$\", color=\"red\")\n",
    "axs.plot(x_data, Lagrange_Polynom(x_data), label=\"$L_8(x)$\", color=\"green\")\n",
    "plt.scatter(x, y, color='orange', s=30, marker='o')\n",
    "ax = plt.gca()\n",
    "# plot X - axis    \n",
    "ax.axhline(y=0, color='k')\n",
    "axs.legend()\n",
    "axs.set(ylim=(8.5, 11))\n",
    "axs.grid(True)\n",
    "#plt.savefig(\"plot_4.1.png\", dpi=500)"
   ]
  },
  {
   "cell_type": "code",
   "execution_count": 23,
   "metadata": {},
   "outputs": [
    {
     "name": "stdout",
     "output_type": "stream",
     "text": [
      "Least Squares method: 10.664358513779007\n",
      "Lagrange Polynom: 10.734460835250001\n",
      "Real value: 10.669\n"
     ]
    }
   ],
   "source": [
    "print(\"Least Squares method:\", Polynom(2019))\n",
    "print(\"Lagrange Polynom:\", Lagrange_Polynom(2019))\n",
    "print(\"Real value:\", 10.669)"
   ]
  },
  {
   "cell_type": "code",
   "execution_count": null,
   "metadata": {},
   "outputs": [],
   "source": []
  }
 ],
 "metadata": {
  "kernelspec": {
   "display_name": "Python 3",
   "language": "python",
   "name": "python3"
  },
  "language_info": {
   "codemirror_mode": {
    "name": "ipython",
    "version": 3
   },
   "file_extension": ".py",
   "mimetype": "text/x-python",
   "name": "python",
   "nbconvert_exporter": "python",
   "pygments_lexer": "ipython3",
   "version": "3.8.5"
  }
 },
 "nbformat": 4,
 "nbformat_minor": 4
}
