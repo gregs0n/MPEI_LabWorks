{
 "cells": [
  {
   "cell_type": "code",
   "execution_count": 1,
   "metadata": {},
   "outputs": [],
   "source": [
    "import numpy as np\n",
    "import matplotlib.pyplot as plt\n",
    "from collections import namedtuple"
   ]
  },
  {
   "cell_type": "code",
   "execution_count": 2,
   "metadata": {},
   "outputs": [],
   "source": [
    "def f(x: np.float64) -> np.float64:\n",
    "    return x*np.sin(2 - x)"
   ]
  },
  {
   "cell_type": "code",
   "execution_count": 3,
   "metadata": {},
   "outputs": [],
   "source": [
    "def equal_partition(a: np.float64, b: np.float64, n: int) -> np.ndarray:\n",
    "    return np.linspace(a, b, n)\n",
    "\n",
    "def Chebyschev_partition(a: np.float64, b: np.float64, n: int) -> np.ndarray:\n",
    "    n -= 2\n",
    "    get_x = lambda k: 0.5*(a + b) + 0.5*(b - a) * np.cos(np.pi * (2*k + 1)/(2*n + 2))\n",
    "    x = [get_x(k) for k in range(n, -1, -1)]\n",
    "    partition = np.array([a] + x + [b])\n",
    "    return partition"
   ]
  },
  {
   "cell_type": "code",
   "execution_count": 4,
   "metadata": {},
   "outputs": [],
   "source": [
    "Polynom = namedtuple(\"Polynom\", [\"a\", \"b\", \"c\", \"x0\", \"x1\"])\n",
    "def make_spline(x: np.ndarray, y: np.ndarray, dfa: np.float64):\n",
    "    spline = []\n",
    "    n = len(x) - 1\n",
    "    a, b, c = [0]*n, [0]*n, [0]*n\n",
    "    for i in range(n):\n",
    "        a[i] = y[i]\n",
    "        b[i] = (y[i+1] - y[i]) / (x[i+1] - x[i])\n",
    "        #print(\"B\", i, b[i])\n",
    "    c[0] = (dfa - b[0])/(2*x[1])\n",
    "    #print(\"C\", 0, c[0])\n",
    "    for i in range(1, n):\n",
    "        c[i] = (b[i] - b[i-1])/(2 * x[i+1]) + x[i-1]/x[i+1] * c[i-1]\n",
    "        #print(\"C\", i, c[i])\n",
    "    for i in range(n):\n",
    "        spline.append(Polynom(a[i], b[i], c[i], x[i], x[i+1]))\n",
    "    #print(c)\n",
    "    return spline"
   ]
  },
  {
   "cell_type": "code",
   "execution_count": 5,
   "metadata": {},
   "outputs": [],
   "source": [
    "def PrintSpline(spline: list):\n",
    "    for P in spline:\n",
    "        print(P.a, P.b, P.c, P.x0, P.x1)"
   ]
  },
  {
   "cell_type": "code",
   "execution_count": 45,
   "metadata": {},
   "outputs": [],
   "source": [
    "a, b = 1, 4\n",
    "x = equal_partition(a, b, 15)\n",
    "#x = Chebyschev_partition(a, b, 50)\n",
    "y = np.array([f(i) for i in x])\n",
    "df1 = np.sin(1) - np.cos(1)\n",
    "spline = make_spline(x, y, df1)\n",
    "#PrintSpline(spline)"
   ]
  },
  {
   "cell_type": "code",
   "execution_count": 46,
   "metadata": {},
   "outputs": [],
   "source": [
    "def Spline(arg: np.float64):\n",
    "    n = len(spline)    \n",
    "    if arg <= spline[0].x1:\n",
    "        s = spline[0]\n",
    "    elif arg >= spline[n - 1].x0:\n",
    "        s = spline[n - 1]\n",
    "    else:\n",
    "        i = 0\n",
    "        j = n - 1\n",
    "        while i + 1 < j:\n",
    "            k = i + (j - i) // 2\n",
    "            if arg <= spline[k].x0:\n",
    "                j = k\n",
    "            else:\n",
    "                i = k\n",
    "        s = spline[i]\n",
    "    return s.a + s.b*(arg - s.x0) + s.c*(arg - s.x0)*(arg - s.x1)\n",
    "\n",
    "def Lagrange_Polynom(arg):\n",
    "    res = 0\n",
    "    for i in range(len(x)):\n",
    "        tmp = 1\n",
    "        for k in range(len(x)):\n",
    "            if i != k:\n",
    "                tmp *= (arg - x[k])* 1.0/(x[i] - x[k])\n",
    "        res += y[i]*tmp\n",
    "    return res"
   ]
  },
  {
   "cell_type": "code",
   "execution_count": 47,
   "metadata": {
    "scrolled": false
   },
   "outputs": [
    {
     "name": "stdout",
     "output_type": "stream",
     "text": [
      "0.2013145887314134\n"
     ]
    },
    {
     "data": {
      "image/png": "[encoded data removed]",
      "text/plain": [
       "<Figure size 432x288 with 1 Axes>"
      ]
     },
     "metadata": {
      "needs_background": "light"
     },
     "output_type": "display_data"
    }
   ],
   "source": [
    "x_data = np.linspace(1, 4, 1000)\n",
    "#print(x_data)\n",
    "color = [\"black\", \"green\", \"blue\", \"yellow\", \"orange\", \"violet\"]\n",
    "df = lambda x: np.sin(2-x) - x*np.cos(2 - x)\n",
    "fig, axs = plt.subplots()\n",
    "#axs.plot(x_data, f(x_data), color=\"green\")\n",
    "#axs.plot(x_data, Lagrange_Polynom(x_data), color=\"violet\")\n",
    "axs.plot(x_data, np.array([Spline(arg) for arg in x_data]), color=\"blue\")\n",
    "#axs.plot(x_data, np.array([f(arg) - Spline(arg) for arg in x_data]), color=\"red\")\n",
    "#axs.plot(x_data, f(x_data) - Lagrange_Polynom(x_data), color=\"orange\")\n",
    "print(max(np.array([f(arg) - Spline(arg) for arg in x_data])))\n",
    "i = 0\n",
    "#for p in spline:\n",
    "    #k = lambda arg: p.a + p.b*(arg - p.x0) + p.c*(arg - p.x0)*(arg - p.x1)\n",
    "    #axs.plot(x_data, k(x_data), color=color[i % len(color)])\n",
    "    #i += 1\n",
    "#plt.scatter(x, y, color='orange', s=30, marker='o')\n",
    "ax = plt.gca()\n",
    "# plot X - axis    \n",
    "ax.axhline(y=0, color='k')\n",
    "#axs.set(ylim=(-1, 1))\n",
    "#axs.legend()\n",
    "axs.grid(True)\n",
    "#plt.savefig(\"plot_4.2.png\", dpi=500)"
   ]
  },
  {
   "cell_type": "code",
   "execution_count": 24,
   "metadata": {},
   "outputs": [
    {
     "name": "stdout",
     "output_type": "stream",
     "text": [
      "Polynom(a=0.5453244946602539, b=-1.635973483980761, c=-0.30411597298865795, x0=1.6666666666666665, x1=2.0)\n"
     ]
    }
   ],
   "source": [
    "print(spline[2])"
   ]
  },
  {
   "cell_type": "code",
   "execution_count": 11,
   "metadata": {},
   "outputs": [
    {
     "data": {
      "text/plain": [
       "0.8351172226516269"
      ]
     },
     "execution_count": 11,
     "metadata": {},
     "output_type": "execute_result"
    }
   ],
   "source": [
    "y[2] + (-1.635973483980761)*(x[3] - x[2])"
   ]
  },
  {
   "cell_type": "code",
   "execution_count": 12,
   "metadata": {},
   "outputs": [
    {
     "data": {
      "text/plain": [
       "0.846588332454848"
      ]
     },
     "execution_count": 12,
     "metadata": {},
     "output_type": "execute_result"
    }
   ],
   "source": [
    "y[3]"
   ]
  },
  {
   "cell_type": "code",
   "execution_count": 13,
   "metadata": {},
   "outputs": [
    {
     "data": {
      "text/plain": [
       "0.846588332454848"
      ]
     },
     "execution_count": 13,
     "metadata": {},
     "output_type": "execute_result"
    }
   ],
   "source": [
    "Spline(x[3])"
   ]
  },
  {
   "cell_type": "code",
   "execution_count": 14,
   "metadata": {},
   "outputs": [
    {
     "data": {
      "text/plain": [
       "Polynom(a=0.8449527345793668, b=0.2720544466217071, c=-0.008611941962495668, x0=1.0120240480961924, x1=1.0180360721442885)"
      ]
     },
     "execution_count": 14,
     "metadata": {},
     "output_type": "execute_result"
    }
   ],
   "source": [
    "spline[2]"
   ]
  },
  {
   "cell_type": "code",
   "execution_count": 15,
   "metadata": {},
   "outputs": [
    {
     "data": {
      "text/plain": [
       "1.0120240480961924"
      ]
     },
     "execution_count": 15,
     "metadata": {},
     "output_type": "execute_result"
    }
   ],
   "source": [
    "x[2]"
   ]
  },
  {
   "cell_type": "code",
   "execution_count": 16,
   "metadata": {},
   "outputs": [
    {
     "data": {
      "text/plain": [
       "1.0180360721442885"
      ]
     },
     "execution_count": 16,
     "metadata": {},
     "output_type": "execute_result"
    }
   ],
   "source": [
    "x[3]"
   ]
  },
  {
   "cell_type": "code",
   "execution_count": null,
   "metadata": {},
   "outputs": [],
   "source": []
  }
 ],
 "metadata": {
  "kernelspec": {
   "display_name": "Python 3",
   "language": "python",
   "name": "python3"
  },
  "language_info": {
   "codemirror_mode": {
    "name": "ipython",
    "version": 3
   },
   "file_extension": ".py",
   "mimetype": "text/x-python",
   "name": "python",
   "nbconvert_exporter": "python",
   "pygments_lexer": "ipython3",
   "version": "3.8.5"
  }
 },
 "nbformat": 4,
 "nbformat_minor": 4
}
