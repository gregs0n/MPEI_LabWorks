{
 "cells": [
  {
   "cell_type": "code",
   "execution_count": 279,
   "metadata": {},
   "outputs": [],
   "source": [
    "import numpy as np\n",
    "import matplotlib.pyplot as plt\n",
    "from collections import namedtuple"
   ]
  },
  {
   "cell_type": "code",
   "execution_count": 385,
   "metadata": {},
   "outputs": [],
   "source": [
    "def f(x: np.float64) -> np.float64:\n",
    "    return x*np.sin(2 - x)\n",
    "    #return 1.0 / (1 + 25*x**2)"
   ]
  },
  {
   "cell_type": "code",
   "execution_count": 449,
   "metadata": {},
   "outputs": [],
   "source": [
    "def equal_partition(a: np.float64, b: np.float64, n: int) -> np.ndarray:\n",
    "    return np.linspace(a, b, n)\n",
    "\n",
    "def Chebyschev_partition(a: np.float64, b: np.float64, n: int) -> np.ndarray:\n",
    "    n -= 1\n",
    "    get_x = lambda k: 0.5*(a + b) + 0.5*(b - a) * np.cos(np.pi * (2*k + 1)/(2*n + 2))\n",
    "    x = [get_x(k) for k in range(n, -1, -1)]\n",
    "    partition = np.array(x)\n",
    "    return partition"
   ]
  },
  {
   "cell_type": "code",
   "execution_count": 450,
   "metadata": {},
   "outputs": [],
   "source": [
    "Polynom = namedtuple(\"Polynom\", [\"a\", \"b\", \"c\", \"x0\", \"x1\"])\n",
    "def make_spline(x: np.ndarray, y: np.ndarray, dfa: np.float64):\n",
    "    spline = []\n",
    "    n = len(x) - 1\n",
    "    a, b, c = [0]*n, [0]*n, [0]*n\n",
    "    for i in range(n):\n",
    "        a[i] = y[i]\n",
    "        b[i] = (y[i+1] - y[i]) / (x[i+1] - x[i])\n",
    "    c[0] = (dfa - b[0])/(2*x[1])\n",
    "    spline.append(Polynom(a[0], b[0], c[0], x[0], x[1]))\n",
    "    for i in range(1, n):\n",
    "        c[i] = (b[i] - b[i-1])/(2 * x[i+1]) + x[i-1]/x[i+1] * c[i-1]\n",
    "        spline.append(Polynom(a[i], b[i], c[i], x[i], x[i+1]))\n",
    "    return spline"
   ]
  },
  {
   "cell_type": "code",
   "execution_count": 451,
   "metadata": {},
   "outputs": [],
   "source": [
    "def PrintSpline(spline: list):\n",
    "    for P in spline:\n",
    "        print(P.a, P.b, P.c, P.x0, P.x1)"
   ]
  },
  {
   "cell_type": "code",
   "execution_count": 522,
   "metadata": {},
   "outputs": [],
   "source": [
    "a, b = 1, 4\n",
    "n_dots = 69\n",
    "x = equal_partition(a, b, n_dots) #100 0.005909864879679992\n",
    "#x = Chebyschev_partition(a, b, n_dots) #100 0.007819083547945267\n",
    "y = np.array([f(i) for i in x])\n",
    "df1 = np.sin(1) - np.cos(1)\n",
    "spline = make_spline(x, y, df1)"
   ]
  },
  {
   "cell_type": "code",
   "execution_count": 525,
   "metadata": {},
   "outputs": [],
   "source": [
    "def Spline(arg: np.float64):\n",
    "    n = len(spline)    \n",
    "    if arg <= spline[0].x1:\n",
    "        s = spline[0]\n",
    "    elif arg >= spline[n - 1].x0:\n",
    "        s = spline[n - 1]\n",
    "    else:\n",
    "        i, j = 0, n - 1\n",
    "        while i + 1 < j:\n",
    "            k = i + (j - i) // 2\n",
    "            if arg <= spline[k].x0: j = k\n",
    "            else: i = k\n",
    "        s = spline[i]\n",
    "    return s.a + s.b*(arg - s.x0) + s.c*(arg - s.x0)*(arg - s.x1)\n",
    "\n",
    "x = Chebyschev_partition(a, b, 7)\n",
    "y = np.array([f(i) for i in x])\n",
    "def Lagrange_Polynom(arg):\n",
    "    res = 0\n",
    "    for i in range(len(x)):\n",
    "        tmp = 1\n",
    "        for k in range(len(x)):\n",
    "            if i != k:\n",
    "                tmp *= (arg - x[k])* 1.0/(x[i] - x[k])\n",
    "        res += y[i]*tmp\n",
    "    return res"
   ]
  },
  {
   "cell_type": "code",
   "execution_count": 527,
   "metadata": {
    "scrolled": false
   },
   "outputs": [
    {
     "data": {
      "image/png": "[encoded data removed]",
      "text/plain": [
       "<Figure size 432x288 with 1 Axes>"
      ]
     },
     "metadata": {
      "needs_background": "light"
     },
     "output_type": "display_data"
    }
   ],
   "source": [
    "x_data = np.linspace(a, b, 1000)\n",
    "fig, axs = plt.subplots()\n",
    "axs.plot(x_data, Lagrange_Polynom(x_data), label=\"$L(x)$\", color=\"violet\")\n",
    "axs.plot(x_data, np.array([Spline(arg) for arg in x_data]), label=\"$P(x)$\", color=\"blue\")\n",
    "axs.plot(x_data, f(x_data), label=\"$f(x)$\", color=\"green\")\n",
    "#axs.plot(x_data, np.array([np.abs(f(arg) - Spline(arg)) for arg in x_data]), label=\"$RP(t)$\", color=\"red\")\n",
    "#axs.plot(x_data, np.abs(f(x_data) - Lagrange_Polynom(x_data)), label=\"$RL(t)$\", color=\"blue\")\n",
    "#plt.scatter(x, y, color='orange', s=40, marker='o')\n",
    "ax = plt.gca()\n",
    "# plot X - axis    \n",
    "ax.axhline(y=0, color='k')\n",
    "#axs.set(ylim=(-4, 1))\n",
    "#axs.set(ylim=(-0.001, 0.001))\n",
    "axs.legend()\n",
    "axs.grid(True)\n",
    "#plt.savefig(\"plot_4.2_all_inter.png\", dpi=500)"
   ]
  }
 ],
 "metadata": {
  "kernelspec": {
   "display_name": "Python 3",
   "language": "python",
   "name": "python3"
  },
  "language_info": {
   "codemirror_mode": {
    "name": "ipython",
    "version": 3
   },
   "file_extension": ".py",
   "mimetype": "text/x-python",
   "name": "python",
   "nbconvert_exporter": "python",
   "pygments_lexer": "ipython3",
   "version": "3.8.5"
  }
 },
 "nbformat": 4,
 "nbformat_minor": 4
}
