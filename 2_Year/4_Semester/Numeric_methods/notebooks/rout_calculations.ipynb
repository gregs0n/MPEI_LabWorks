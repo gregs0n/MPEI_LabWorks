{
 "cells": [
  {
   "cell_type": "code",
   "execution_count": 1,
   "metadata": {},
   "outputs": [],
   "source": [
    "a = [None, -1, 2, -2, 4]\n",
    "b = [8, 12, 8, 6, 7]\n",
    "c = [4, -5, 3, 2, None]\n",
    "d = [12, 11, -98, -2, -9]\n",
    "y = [b[0], 0, 0, 0, 0]\n",
    "alpha = [-c[0]/y[0], 0, 0, 0, 0]\n",
    "beta = [d[0]/y[0], 0, 0, 0, 0]"
   ]
  },
  {
   "cell_type": "code",
   "execution_count": 14,
   "metadata": {},
   "outputs": [
    {
     "name": "stdout",
     "output_type": "stream",
     "text": [
      "8 -0.5 1.5\n",
      "12.5 0.4 1.0\n",
      "8.8 -0.3409090909090909 -11.363636363636363\n",
      "6.681818181818182 -0.29931972789115646 -3.7006802721088436\n",
      "5.802721088435375 0 1.0\n"
     ]
    }
   ],
   "source": [
    "print(y[0], alpha[0], beta[0])\n",
    "for i in range(1, 4):\n",
    "    y[i] = b[i] + a[i]*alpha[i-1]\n",
    "    alpha[i] = -c[i]/y[i]\n",
    "    beta[i] = (d[i] - a[i]*beta[i-1])/y[i]\n",
    "    print(y[i], alpha[i], beta[i])\n",
    "y[4] = b[4] + a[4]*alpha[3]\n",
    "beta[4] = (d[4] - a[4]*beta[3])/y[4]\n",
    "print(y[4], alpha[4], beta[4])"
   ]
  },
  {
   "cell_type": "code",
   "execution_count": 15,
   "metadata": {},
   "outputs": [],
   "source": [
    "x = [0, 0, 0, 0, beta[4]]\n",
    "for i in range(3, -1, -1):\n",
    "    x[i] = alpha[i]*x[i+1] + beta[i]"
   ]
  },
  {
   "cell_type": "code",
   "execution_count": 16,
   "metadata": {},
   "outputs": [
    {
     "name": "stdout",
     "output_type": "stream",
     "text": [
      "3.0\n",
      "-3.0\n",
      "-10.0\n",
      "-4.0\n",
      "1.0\n"
     ]
    }
   ],
   "source": [
    "for i in x: print(i)"
   ]
  },
  {
   "cell_type": "code",
   "execution_count": 17,
   "metadata": {},
   "outputs": [
    {
     "data": {
      "text/plain": [
       "12.0"
      ]
     },
     "execution_count": 17,
     "metadata": {},
     "output_type": "execute_result"
    }
   ],
   "source": [
    "b[0]*x[0] + c[0]*x[1]"
   ]
  },
  {
   "cell_type": "code",
   "execution_count": 18,
   "metadata": {},
   "outputs": [
    {
     "data": {
      "text/plain": [
       "11.0"
      ]
     },
     "execution_count": 18,
     "metadata": {},
     "output_type": "execute_result"
    }
   ],
   "source": [
    "a[1]*x[0] + b[1]*x[1] + c[1]*x[2]"
   ]
  },
  {
   "cell_type": "code",
   "execution_count": 21,
   "metadata": {},
   "outputs": [
    {
     "data": {
      "text/plain": [
       "-98.0"
      ]
     },
     "execution_count": 21,
     "metadata": {},
     "output_type": "execute_result"
    }
   ],
   "source": [
    "a[2]*x[1] + b[2]*x[2] + c[2]*x[3]"
   ]
  },
  {
   "cell_type": "code",
   "execution_count": 23,
   "metadata": {},
   "outputs": [
    {
     "data": {
      "text/plain": [
       "-2.0"
      ]
     },
     "execution_count": 23,
     "metadata": {},
     "output_type": "execute_result"
    }
   ],
   "source": [
    "a[3]*x[2] + b[3]*x[3] + c[3]*x[4]"
   ]
  },
  {
   "cell_type": "code",
   "execution_count": null,
   "metadata": {},
   "outputs": [],
   "source": []
  }
 ],
 "metadata": {
  "kernelspec": {
   "display_name": "Python 3",
   "language": "python",
   "name": "python3"
  },
  "language_info": {
   "codemirror_mode": {
    "name": "ipython",
    "version": 3
   },
   "file_extension": ".py",
   "mimetype": "text/x-python",
   "name": "python",
   "nbconvert_exporter": "python",
   "pygments_lexer": "ipython3",
   "version": "3.8.5"
  }
 },
 "nbformat": 4,
 "nbformat_minor": 4
}
