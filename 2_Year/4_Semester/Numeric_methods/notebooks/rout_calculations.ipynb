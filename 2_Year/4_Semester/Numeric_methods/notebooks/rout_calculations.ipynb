{
 "cells": [
  {
   "cell_type": "code",
   "execution_count": 8,
   "metadata": {},
   "outputs": [],
   "source": [
    "import numpy as np\n",
    "import matplotlib.pyplot as plt"
   ]
  },
  {
   "cell_type": "code",
   "execution_count": 26,
   "metadata": {},
   "outputs": [],
   "source": [
    "def f(x:float) -> float:\n",
    "    return x**2 - 3*x - 1/(x + 1)\n",
    "\n",
    "def dphi1(x:float) -> float:\n",
    "    return 1/3 * (2*x + 1/(x+1)**2)\n",
    "\n",
    "def dphi2(x:float) -> float:\n",
    "    return 0.5 * (3 - (x+1)**(-2)) / (3*x + 1/(x+1))**0.5\n",
    "\n",
    "def dphi3(x:float) -> float:\n",
    "    return -(x**2 - 3*x)**(-2) * (2*x - 3)"
   ]
  },
  {
   "cell_type": "code",
   "execution_count": 37,
   "metadata": {
    "scrolled": false
   },
   "outputs": [
    {
     "data": {
      "text/plain": [
       "<matplotlib.lines.Line2D at 0x231083a61f0>"
      ]
     },
     "execution_count": 37,
     "metadata": {},
     "output_type": "execute_result"
    },
    {
     "data": {
      "image/png": "[encoded data removed]",
      "text/plain": [
       "<Figure size 432x288 with 1 Axes>"
      ]
     },
     "metadata": {
      "needs_background": "light"
     },
     "output_type": "display_data"
    }
   ],
   "source": [
    "x_data = np.linspace(1.05, 5, 100)\n",
    "\n",
    "line_styles = ((0, (3, 1, 1, 1, 1, 1)), 'dotted', 'dashed', 'dashdot', (0, (1, 10)))\n",
    "\n",
    "plt.plot(x_data, f(x_data), label=\"$f(x)$\", color=\"blue\")\n",
    "\n",
    "plt.plot(x_data, dphi1(x_data), label=\"$\\phi'_1(x)$\", color=\"green\")\n",
    "\n",
    "plt.plot(x_data, dphi2(x_data), label=\"$\\phi'_2(x)$\", color=\"red\")\n",
    "\n",
    "plt.plot(x_data, dphi3(x_data), label=\"$\\phi'_3(x)$\", color=\"orange\")\n",
    "\n",
    "plt.ylim([-3, 3])\n",
    "\n",
    "plt.legend()\n",
    "\n",
    "ax = plt.gca()\n",
    "# plot X - axis    \n",
    "ax.axhline(y=0, color='k')\n",
    "ax.axhline(y=1, color='k')\n",
    "#plt.savefig('rout_calc_3.png', dpi=500)\n"
   ]
  },
  {
   "cell_type": "code",
   "execution_count": 38,
   "metadata": {},
   "outputs": [],
   "source": [
    "def phi(x):\n",
    "    return np.sqrt(3*x + 1/(x+1))\n",
    "\n",
    "k = 1\n",
    "eps = 1e-4\n",
    "x = [3, phi(3)]\n",
    "while np.abs(x[k] - x[k-1]) > eps:\n",
    "    k+=1\n",
    "    x.append(phi(x[k-1]))"
   ]
  },
  {
   "cell_type": "code",
   "execution_count": 46,
   "metadata": {},
   "outputs": [
    {
     "name": "stdout",
     "output_type": "stream",
     "text": [
      "0&3\n",
      "1 & 3.0413812651491097 & 0.041381 & \\\\ \\hline\n",
      "2 & 3.0613042888283317 & 0.019923 & \\\\ \\hline\n",
      "3 & 3.0708531687726475 & 0.009549 & \\\\ \\hline\n",
      "4 & 3.075420013298832 & 0.004567 & \\\\ \\hline\n",
      "5 & 3.0776019109160693 & 0.002182 & \\\\ \\hline\n",
      "6 & 3.078643843839416 & 0.001042 & \\\\ \\hline\n",
      "7 & 3.079141287154193 & 0.000497 & \\\\ \\hline\n",
      "8 & 3.0793787517998505 & 0.000237 & \\\\ \\hline\n",
      "9 & 3.0794921043204835 & 0.000113 & \\\\ \\hline\n",
      "10 & 3.0795462111839926 & 0.000054 & \\\\ \\hline\n"
     ]
    }
   ],
   "source": [
    "print(0, x[0], sep='&')\n",
    "for i in range(1, len(x)):\n",
    "    print(i, x[i], \"{:f}\".format(np.abs(x[i] - x[i-1])), r'\\\\ \\hline', sep=' & ')"
   ]
  },
  {
   "cell_type": "code",
   "execution_count": null,
   "metadata": {},
   "outputs": [],
   "source": []
  }
 ],
 "metadata": {
  "kernelspec": {
   "display_name": "Python 3",
   "language": "python",
   "name": "python3"
  },
  "language_info": {
   "codemirror_mode": {
    "name": "ipython",
    "version": 3
   },
   "file_extension": ".py",
   "mimetype": "text/x-python",
   "name": "python",
   "nbconvert_exporter": "python",
   "pygments_lexer": "ipython3",
   "version": "3.8.5"
  }
 },
 "nbformat": 4,
 "nbformat_minor": 4
}
