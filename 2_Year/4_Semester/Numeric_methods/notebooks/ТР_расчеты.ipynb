{
 "cells": [
  {
   "cell_type": "code",
   "execution_count": 2,
   "metadata": {},
   "outputs": [],
   "source": [
    "import numpy as np\n",
    "import matplotlib.pyplot as plt"
   ]
  },
  {
   "cell_type": "code",
   "execution_count": 58,
   "metadata": {},
   "outputs": [],
   "source": [
    "def f(x:float) -> float:\n",
    "    return 2*x + (x-1)**-0.5 - 6\n",
    "\n",
    "def df(x:float) -> float:\n",
    "    return 2 - 0.5*(x-1)**-1.5"
   ]
  },
  {
   "cell_type": "code",
   "execution_count": 54,
   "metadata": {
    "scrolled": false
   },
   "outputs": [
    {
     "name": "stderr",
     "output_type": "stream",
     "text": [
      "<ipython-input-48-c199234f63e2>:2: RuntimeWarning: invalid value encountered in power\n",
      "  return 2*x + (x-1)**-0.5 - 6\n"
     ]
    },
    {
     "data": {
      "text/plain": [
       "<matplotlib.lines.Line2D at 0x1502fc10bb0>"
      ]
     },
     "execution_count": 54,
     "metadata": {},
     "output_type": "execute_result"
    },
    {
     "data": {
      "image/png": "[encoded data removed]",
      "text/plain": [
       "<Figure size 432x288 with 1 Axes>"
      ]
     },
     "metadata": {
      "needs_background": "light"
     },
     "output_type": "display_data"
    }
   ],
   "source": [
    "x_plot = np.linspace(-5, 5, 100)\n",
    "\n",
    "plt.plot(x_plot, f(x_plot),color='green', label='f(x)')\n",
    "ax = plt.gca()\n",
    "\n",
    "# plot X - axis    \n",
    "ax.axhline(y=0, color='k')\n",
    "#plt.savefig('func_plot.png', dpi=500)\n"
   ]
  },
  {
   "cell_type": "code",
   "execution_count": 71,
   "metadata": {},
   "outputs": [
    {
     "name": "stdout",
     "output_type": "stream",
     "text": [
      "1 2.6286641138368254 0.871335886163175\n",
      "2 2.6054124932503986 0.023251620586427\n",
      "3 2.6053779405577515 0.000034552692647\n",
      "4 2.6053779404795963 0.000000000078155\n"
     ]
    }
   ],
   "source": [
    "a, b = 2, 5\n",
    "x_k = 3.5\n",
    "x_prev = 5\n",
    "eps = 1e-8\n",
    "k = 0\n",
    "while abs(x_k - x_prev) >= eps:\n",
    "    x_prev = x_k\n",
    "    x_k = x_prev - f(x_prev)/df(x_prev)\n",
    "    k+=1\n",
    "    print(k, x_k, '{:.15f}'.format(abs(x_k - x_prev)))"
   ]
  },
  {
   "cell_type": "code",
   "execution_count": 4,
   "metadata": {},
   "outputs": [
    {
     "name": "stdout",
     "output_type": "stream",
     "text": [
      "0.008949187144632494\n"
     ]
    }
   ],
   "source": [
    "a, b, c = 52.31, 48.95, 47.81\n",
    "da, db, dc = 0.005, 0.005, 0.005\n",
    "dA, dB, dC = da / a, db/b, dc/c\n",
    "dF1 = 0.01 / (a + b)\n",
    "dF2 = 0.01 / (b - c)\n",
    "dF = (dF1 + dF2)/(1 - dF2)\n",
    "print(dF)"
   ]
  },
  {
   "cell_type": "code",
   "execution_count": 8,
   "metadata": {},
   "outputs": [
    {
     "data": {
      "text/plain": [
       "0.779162819325"
      ]
     },
     "execution_count": 8,
     "metadata": {},
     "output_type": "execute_result"
    }
   ],
   "source": [
    "0.877192982*0.005 + 77.039088950*0.005 + 77.916281933*0.005"
   ]
  },
  {
   "cell_type": "code",
   "execution_count": 9,
   "metadata": {},
   "outputs": [
    {
     "data": {
      "text/plain": [
       "88.82456140350874"
      ]
     },
     "execution_count": 9,
     "metadata": {},
     "output_type": "execute_result"
    }
   ],
   "source": [
    "(a + b) / (b - c)"
   ]
  },
  {
   "cell_type": "code",
   "execution_count": 10,
   "metadata": {},
   "outputs": [
    {
     "data": {
      "text/plain": [
       "0.7949076101884295"
      ]
     },
     "execution_count": 10,
     "metadata": {},
     "output_type": "execute_result"
    }
   ],
   "source": [
    "0.008949187 * 88.824561403"
   ]
  },
  {
   "cell_type": "code",
   "execution_count": 11,
   "metadata": {},
   "outputs": [
    {
     "data": {
      "text/plain": [
       "0.008771929820907442"
      ]
     },
     "execution_count": 11,
     "metadata": {},
     "output_type": "execute_result"
    }
   ],
   "source": [
    "0.779162819 / 88.824561403"
   ]
  },
  {
   "cell_type": "code",
   "execution_count": 12,
   "metadata": {},
   "outputs": [
    {
     "data": {
      "text/plain": [
       "0.0001772570000000001"
      ]
     },
     "execution_count": 12,
     "metadata": {},
     "output_type": "execute_result"
    }
   ],
   "source": [
    "0.008949187 - 0.008771930"
   ]
  },
  {
   "cell_type": "code",
   "execution_count": null,
   "metadata": {},
   "outputs": [],
   "source": []
  }
 ],
 "metadata": {
  "kernelspec": {
   "display_name": "Python 3",
   "language": "python",
   "name": "python3"
  },
  "language_info": {
   "codemirror_mode": {
    "name": "ipython",
    "version": 3
   },
   "file_extension": ".py",
   "mimetype": "text/x-python",
   "name": "python",
   "nbconvert_exporter": "python",
   "pygments_lexer": "ipython3",
   "version": "3.8.5"
  }
 },
 "nbformat": 4,
 "nbformat_minor": 4
}
